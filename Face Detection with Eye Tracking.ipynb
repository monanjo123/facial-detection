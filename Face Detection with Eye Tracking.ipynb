{
 "cells": [
  {
   "cell_type": "code",
   "execution_count": 1,
   "metadata": {},
   "outputs": [],
   "source": [
    "import cv2\n",
    "import imutils\n",
    "\n",
    "# load Face and Eye Haar Cascade\n",
    "faceCascade = cv2.CascadeClassifier('Haarcascades/haarcascade_frontalface_default.xml')\n",
    "eyeCascade = cv2.CascadeClassifier('Haarcascades/haarcascade_eye.xml')"
   ]
  },
  {
   "cell_type": "code",
   "execution_count": 2,
   "metadata": {},
   "outputs": [],
   "source": [
    "def eyesDetect(faceROI, eyeCascade = eyeCascade, scaleFactor = 1.1, minNeighbors = 8, minSize = (10, 10)):\n",
    "    rects = eyeCascade.detectMultiScale(\n",
    "        faceROI,\n",
    "        scaleFactor = scaleFactor,\n",
    "        minNeighbors = minNeighbors,\n",
    "        minSize = minSize,\n",
    "        flags = cv2.CASCADE_SCALE_IMAGE\n",
    "    )\n",
    "    return rects\n",
    "\n",
    "def faceDetect(image, faceCascade = faceCascade, scaleFactor = 1.3, minNeighbors = 5, minSize = (30, 30)):\n",
    "    rects = faceCascade.detectMultiScale(\n",
    "        image,\n",
    "        scaleFactor = scaleFactor,\n",
    "        minNeighbors = minNeighbors,\n",
    "        minSize = minSize,\n",
    "        flags = cv2.CASCADE_SCALE_IMAGE\n",
    "    )\n",
    "    return rects"
   ]
  },
  {
   "cell_type": "code",
   "execution_count": 85,
   "metadata": {},
   "outputs": [],
   "source": [
    "#load image\n",
    "images = ['Hillary.jpg', 'Trump.jpg', 'faceswap.JPG']\n",
    "for image in images:\n",
    "    image = cv2.imread(image)\n",
    "    image = imutils.resize(image, height = 300)\n",
    "    gray = cv2.cvtColor(image, cv2.COLOR_BGR2GRAY)\n",
    "    \n",
    "    # call faceDetect function\n",
    "    faceRects = faceDetect(gray)\n",
    "    \n",
    "    for (x, y, w, h) in faceRects:\n",
    "        cv2.rectangle(image, (x, y), (x + w , y + h), (0, 255, 0), 2)\n",
    "        grayROI = gray[y:y + h, x:x + w]\n",
    "        imgROI = image[y:y + h, x:x + w]\n",
    "        eyeRects = eyesDetect(grayROI)\n",
    "        for (eX, eY, eW, eH) in eyeRects:\n",
    "            cv2.rectangle(imgROI, (eX, eY), (eX + eW, eY + eH), (0, 255, 0), 2)\n",
    "\n",
    "    cv2.imshow('Faces', image)\n",
    "    cv2.waitKey(0)"
   ]
  },
  {
   "cell_type": "code",
   "execution_count": 3,
   "metadata": {},
   "outputs": [],
   "source": [
    "# webcam face detector\n",
    "\n",
    "cap = cv2.VideoCapture(0)\n",
    "\n",
    "while True:\n",
    "    (ret, frame) = cap.read()\n",
    "    \n",
    "    frame = imutils.resize(frame, height=300)\n",
    "    gray = cv2.cvtColor(frame, cv2.COLOR_BGR2GRAY)\n",
    "    frameClone = frame.copy()\n",
    "    \n",
    "    faceRects = faceDetect(gray)\n",
    "    \n",
    "    for (x, y, w, h) in faceRects:\n",
    "        cv2.rectangle(frameClone, (x, y), (x + w , y + h), (0, 255, 0), 2)\n",
    "        grayFrameROI = gray[y:y+h, x:x+w]\n",
    "        frameROI = frameClone[y:y+h, x:x+w]\n",
    "        eyeRects = eyesDetect(grayFrameROI)\n",
    "        for (eX, eY, eW, eH) in eyeRects:\n",
    "            cv2.rectangle(frameROI, (eX, eY), (eX + eW, eY + eH), (0, 255, 0), 2)\n",
    "        \n",
    "    cv2.imshow(\"Webcam Face Detection\" , frameClone)\n",
    "    if cv2.waitKey(1) == 13:\n",
    "        break\n",
    "    \n",
    "cap.release()\n",
    "cv2.destroyAllWindows()"
   ]
  }
 ],
 "metadata": {
  "kernelspec": {
   "display_name": "Python 3",
   "language": "python",
   "name": "python3"
  },
  "language_info": {
   "codemirror_mode": {
    "name": "ipython",
    "version": 3
   },
   "file_extension": ".py",
   "mimetype": "text/x-python",
   "name": "python",
   "nbconvert_exporter": "python",
   "pygments_lexer": "ipython3",
   "version": "3.6.4"
  }
 },
 "nbformat": 4,
 "nbformat_minor": 2
}
