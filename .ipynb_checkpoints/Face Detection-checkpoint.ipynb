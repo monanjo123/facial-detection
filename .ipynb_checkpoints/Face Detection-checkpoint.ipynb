{
 "cells": [
  {
   "cell_type": "code",
   "execution_count": 31,
   "metadata": {},
   "outputs": [],
   "source": [
    "import cv2\n",
    "import imutils\n",
    "\n",
    "# load cascade classifier\n",
    "faceCascade = cv2.CascadeClassifier('Haarcascades/haarcascade_frontalface_default.xml')"
   ]
  },
  {
   "cell_type": "code",
   "execution_count": 35,
   "metadata": {},
   "outputs": [],
   "source": [
    "# create face detection function\n",
    "def faceDetect(image, faceCascade, scaleFactor = 1.3, minNeighbors = 5, minSize = (30,30)):\n",
    "    rects = faceCascade.detectMultiScale(\n",
    "        image,\n",
    "        scaleFactor = scaleFactor,\n",
    "        minNeighbors = minNeighbors,\n",
    "        minSize = minSize,\n",
    "        flags = cv2.CASCADE_SCALE_IMAGE\n",
    "    )\n",
    "    return rects"
   ]
  },
  {
   "cell_type": "code",
   "execution_count": 30,
   "metadata": {},
   "outputs": [
    {
     "name": "stdout",
     "output_type": "stream",
     "text": [
      "Faces = 1\n",
      "Faces = 1\n",
      "Faces = 1\n",
      "Faces = 4\n"
     ]
    }
   ],
   "source": [
    "\n",
    "#load image\n",
    "images = ['obama.jpg', 'Hillary.jpg', 'Trump.jpg', 'faceswap.JPG']\n",
    "for image in images:\n",
    "    image = cv2.imread(image)\n",
    "    image = imutils.resize(image, height = 300)\n",
    "    gray = cv2.cvtColor(image, cv2.COLOR_BGR2GRAY)\n",
    "    \n",
    "    # call faceDetect function\n",
    "    faceRects = faceDetect(gray, faceCascade)\n",
    "    print('Faces = {}'.format(len(faceRects)))\n",
    "    for (x, y, w, h) in faceRects:\n",
    "        cv2.rectangle(image, (x, y), (x + w , y + h), (0, 255, 0), 2)\n",
    "\n",
    "    cv2.imshow('Faces', image)\n",
    "    cv2.waitKey(0)"
   ]
  },
  {
   "cell_type": "code",
   "execution_count": 39,
   "metadata": {},
   "outputs": [],
   "source": [
    "# webcam face detector\n",
    "\n",
    "cap = cv2.VideoCapture(0)\n",
    "\n",
    "while True:\n",
    "    (ret, frame) = cap.read()\n",
    "    \n",
    "#     frame = imutils.resize(frame, height=300)\n",
    "    gray = cv2.cvtColor(frame, cv2.COLOR_BGR2GRAY)\n",
    "    frameClone = frame.copy()\n",
    "    \n",
    "    faceRects = faceDetect(gray, faceCascade)\n",
    "    \n",
    "    for (x, y, w, h) in faceRects:\n",
    "        cv2.rectangle(frameClone, (x, y), (x + w , y + h), (0, 255, 0), 2)\n",
    "    \n",
    "    cv2.imshow(\"Webcam Face Detection\" , frameClone)\n",
    "    if cv2.waitKey(1) == 13:\n",
    "        break\n",
    "    \n",
    "cap.release()\n",
    "cv2.destroyAllWindows()"
   ]
  }
 ],
 "metadata": {
  "kernelspec": {
   "display_name": "Python 3",
   "language": "python",
   "name": "python3"
  },
  "language_info": {
   "codemirror_mode": {
    "name": "ipython",
    "version": 3
   },
   "file_extension": ".py",
   "mimetype": "text/x-python",
   "name": "python",
   "nbconvert_exporter": "python",
   "pygments_lexer": "ipython3",
   "version": "3.6.4"
  }
 },
 "nbformat": 4,
 "nbformat_minor": 2
}
